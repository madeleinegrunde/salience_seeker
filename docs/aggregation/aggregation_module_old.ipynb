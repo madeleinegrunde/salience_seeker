{
  "nbformat": 4,
  "nbformat_minor": 0,
  "metadata": {
    "colab": {
      "name": "aggregation_module.ipynb",
      "provenance": [],
      "collapsed_sections": [],
      "toc_visible": true
    },
    "kernelspec": {
      "name": "python3",
      "display_name": "Python 3"
    },
    "language_info": {
      "name": "python"
    }
  },
  "cells": [
    {
      "cell_type": "markdown",
      "metadata": {
        "id": "oCsIKxzZoOg3"
      },
      "source": [
        "# Aggregation module\n",
        "\n",
        "### Input: \n",
        "\n",
        "aggregation_input.csv\n",
        "\n",
        "### Output:\n",
        "\n",
        "dataset.csv: a dataset of natural language descriptions\n",
        "\n",
        "aggregated_by_group.txt: the description information aggregated by words, sentences, word frequencies, and clusters\n"
      ]
    },
    {
      "cell_type": "code",
      "metadata": {
        "id": "gSYwZKmgoNqt"
      },
      "source": [
        "import pandas as pd\n",
        "import json\n",
        "from sklearn import cluster\n",
        "from sklearn import metrics\n",
        "from gensim.models import Word2Vec\n",
        "from nltk.cluster import KMeansClusterer\n",
        "import nltk\n",
        "import numpy as np\n",
        "from scipy import spatial\n",
        "import matplotlib.pyplot as plt\n",
        "from sklearn.manifold import TSNE\n",
        "import ast"
      ],
      "execution_count": 52,
      "outputs": []
    },
    {
      "cell_type": "code",
      "metadata": {
        "id": "RNzpZwn5pwaD"
      },
      "source": [
        "def getData(path):\n",
        "  return pd.read_csv(path)\n",
        "\n",
        "def flattenList(lst):\n",
        "  return [item for sublist in lst for item in sublist]\n",
        "\n",
        "def getSentences(df, group='all'):\n",
        "  if group != 'all':\n",
        "    df = df[df['group'] == group]\n",
        "\n",
        "\n",
        "  descriptions = df.descriptions.values\n",
        "  descriptions = [ast.literal_eval(lst) for lst in descriptions]\n",
        "\n",
        "  descriptions = flattenList(descriptions)\n",
        "\n",
        "  return descriptions\n",
        "\n",
        "def getWords(df, group='all'):\n",
        "  sentences = getSentences(df, group)\n",
        "\n",
        "  words = [i.split() for i in sentences]\n",
        "  words = flattenList(words)\n",
        "  words = [word.lower() for word in words]\n",
        "\n",
        "  return words\n",
        "\n",
        "def wordsByFreq(df, group='all'):\n",
        "  words = getWords(df, group)\n",
        "\n",
        "  freq = {}\n",
        "  for word in words:\n",
        "    if word not in freq:\n",
        "      freq[word] = 0\n",
        "    freq[word] += 1\n",
        "\n",
        "  return freq"
      ],
      "execution_count": 57,
      "outputs": []
    },
    {
      "cell_type": "markdown",
      "metadata": {
        "id": "QBk1MxVnH8R0"
      },
      "source": [
        "# Embeddings and clustering \n",
        "\n",
        "Using glove.6V.50d embeddings\n"
      ]
    },
    {
      "cell_type": "code",
      "metadata": {
        "id": "Df5in_h-H1PN"
      },
      "source": [
        "def deleteUninterestingWords(words):\n",
        "  uninteresting_words = ['a', 'the', 'they', 'it', 'and', 'to']\n",
        "\n",
        "  new_words = []\n",
        "  for word in words:\n",
        "    if word not in uninteresting_words:\n",
        "      new_words.append(word)\n",
        "\n",
        "  return new_words\n",
        "\n",
        "\n",
        "def getEmbeddingsDict():  \n",
        "  embeddings_dict = {}\n",
        "\n",
        "  with open(\"glove.6B.50d.txt\", 'r', encoding=\"utf-8\") as f:\n",
        "    for line in f:\n",
        "      values = line.split()\n",
        "      word = values[0]\n",
        "      vector = np.asarray(values[1:], \"float32\")\n",
        "      embeddings_dict[word] = vector\n",
        "\n",
        "  return embeddings_dict\n",
        "\n",
        "\n",
        "def getEmbeddings(words, dic=None):\n",
        "  if dic is None:\n",
        "    dic = getEmbeddingsDict()\n",
        "\n",
        "  new_embed = {}\n",
        "\n",
        "  for word in words:\n",
        "    new_embed[word] = dic[word]\n",
        "\n",
        "  return new_embed\n",
        "\n",
        "\n",
        "def cluster_embeddings(X, num=4):\n",
        "  kclusterer = KMeansClusterer(num, distance=spatial.distance.cosine, repeats=25, avoid_empty_clusters=True)\n",
        "  kmeans = kclusterer.cluster(X, assign_clusters=True)\n",
        "  return kmeans\n",
        "\n",
        "def sortClusters(kmeans, words):\n",
        "  sorted_words = {}\n",
        "  #words = list(model.wv.vocab)\n",
        "  for i, word in enumerate(words):\n",
        "    c = kmeans[i]  \n",
        "    if c not in sorted_words:\n",
        "      sorted_words[c] = []\n",
        "    sorted_words[c].append(word)\n",
        "    #print (word + \":\" + str(kmeans[i]))\n",
        "  return sorted_words"
      ],
      "execution_count": 61,
      "outputs": []
    },
    {
      "cell_type": "code",
      "metadata": {
        "id": "731x6tMuH1SM"
      },
      "source": [
        "def getClusters(df, group):\n",
        "  words = getWords(df)\n",
        "  words = deleteUninterestingWords(words)\n",
        "  embeddings = getEmbeddings(words, all_embeddings)\n",
        "  vectors = [embeddings[word] for word in words]\n",
        "\n",
        "  kmeans = cluster_embeddings(vectors, 4)\n",
        "  clusters = sortClusters(kmeans, words)\n",
        "\n",
        "  return clusters\n"
      ],
      "execution_count": 38,
      "outputs": []
    },
    {
      "cell_type": "markdown",
      "metadata": {
        "id": "6QOaE-grQvV3"
      },
      "source": [
        "# Put data into correct format"
      ]
    },
    {
      "cell_type": "code",
      "metadata": {
        "id": "ELRWBB-zpwO3"
      },
      "source": [
        "def makeDataHolder(df, group='all'):\n",
        "  x = {\n",
        "      'sentences': getSentences(df, group),\n",
        "       'words': getWords(df, group),\n",
        "       'freq': wordsByFreq(df, group),\n",
        "       'clusters': getClusters(df, group),\n",
        "  }\n",
        "\n",
        "  return x\n",
        "\n",
        "\n",
        "def splitDataByGroup(df):\n",
        "  by_group = {}\n",
        "\n",
        "  by_group['all'] = makeDataHolder(df, 'all')\n",
        "\n",
        "  for group in range(1, 8):\n",
        "    by_group[group] = makeDataHolder(df, group)\n",
        "\n",
        "  return by_group"
      ],
      "execution_count": 39,
      "outputs": []
    },
    {
      "cell_type": "code",
      "metadata": {
        "id": "0MWhi7ASpwXn"
      },
      "source": [
        "def makeAvatarDataset(df):\n",
        "  # final columns are og_image, updated_image, group, description\n",
        "\n",
        "  df = df.explode('descriptions')\n",
        "\n",
        "  df['description'] = df['descriptions']\n",
        "  df = df[[\"og_image\", \"updated_image\", \"set\", \"group\", \"description\"]]\n",
        "\n",
        "  return df"
      ],
      "execution_count": 63,
      "outputs": []
    },
    {
      "cell_type": "markdown",
      "metadata": {
        "id": "yc6gKiOqPVnD"
      },
      "source": [
        "# Overall functions to retrieve data"
      ]
    },
    {
      "cell_type": "code",
      "metadata": {
        "id": "SnFlmIJhPZrt"
      },
      "source": [
        "# The embedding dictionary. This is a general glove embedding\n",
        "all_embeddings = getEmbeddingsDict()\n"
      ],
      "execution_count": 41,
      "outputs": []
    },
    {
      "cell_type": "code",
      "metadata": {
        "id": "VHsek8lyH1Ut"
      },
      "source": [
        "# get data\n",
        "df = getData(\"aggregation_input.csv\")"
      ],
      "execution_count": 42,
      "outputs": []
    },
    {
      "cell_type": "code",
      "metadata": {
        "id": "niPKdRj7Pi9W"
      },
      "source": [
        "# get the data for each group\n",
        "by_group = splitDataByGroup(df)"
      ],
      "execution_count": 58,
      "outputs": []
    },
    {
      "cell_type": "code",
      "metadata": {
        "id": "MtAHtMQ9Pi62"
      },
      "source": [
        "# format the results into a dataset\n",
        "dataset = makeAvatarDataset(df)"
      ],
      "execution_count": 64,
      "outputs": []
    },
    {
      "cell_type": "code",
      "metadata": {
        "id": "FDtHifV9Pi2l"
      },
      "source": [
        "# save the data\n",
        "with open('aggregated_by_group.txt', 'w+') as f:\n",
        "  json.dump(by_group, f)\n",
        "\n",
        "\n",
        "dataset.to_csv('dataset.csv')\n",
        "\n"
      ],
      "execution_count": 67,
      "outputs": []
    },
    {
      "cell_type": "markdown",
      "metadata": {
        "id": "KJciFMKpHeQS"
      },
      "source": [
        "# Old version attempting with clustering! TAs please ignore below here\n",
        "\n",
        "Input: csv with group number, the given word, and if the word is valid.\n",
        "\n",
        "\n",
        "### Notes\n",
        "Using word2vec and not glove to find independent embeddings"
      ]
    },
    {
      "cell_type": "code",
      "metadata": {
        "colab": {
          "base_uri": "https://localhost:8080/",
          "height": 1000
        },
        "id": "NzUu7RF9UTRj",
        "outputId": "6af11dc7-af58-45e0-c503-fb57247e79c2"
      },
      "source": [
        "dataset"
      ],
      "execution_count": 65,
      "outputs": [
        {
          "output_type": "execute_result",
          "data": {
            "text/html": [
              "<div>\n",
              "<style scoped>\n",
              "    .dataframe tbody tr th:only-of-type {\n",
              "        vertical-align: middle;\n",
              "    }\n",
              "\n",
              "    .dataframe tbody tr th {\n",
              "        vertical-align: top;\n",
              "    }\n",
              "\n",
              "    .dataframe thead th {\n",
              "        text-align: right;\n",
              "    }\n",
              "</style>\n",
              "<table border=\"1\" class=\"dataframe\">\n",
              "  <thead>\n",
              "    <tr style=\"text-align: right;\">\n",
              "      <th></th>\n",
              "      <th>og_image</th>\n",
              "      <th>updated_image</th>\n",
              "      <th>set</th>\n",
              "      <th>group</th>\n",
              "      <th>description</th>\n",
              "    </tr>\n",
              "  </thead>\n",
              "  <tbody>\n",
              "    <tr>\n",
              "      <th>0</th>\n",
              "      <td>https://i.postimg.cc/3wvyVHpd/Avatar-Maker.png</td>\n",
              "      <td>https://i.postimg.cc/7ZcGKL5F/Avatar-Maker-1.png</td>\n",
              "      <td>1</td>\n",
              "      <td>1</td>\n",
              "      <td>['Change the eyebrows to be thicker']</td>\n",
              "    </tr>\n",
              "    <tr>\n",
              "      <th>1</th>\n",
              "      <td>https://i.postimg.cc/3wvyVHpd/Avatar-Maker.png</td>\n",
              "      <td>https://i.postimg.cc/ydCJzrXn/Avatar-Maker-2.png</td>\n",
              "      <td>1</td>\n",
              "      <td>2</td>\n",
              "      <td>['Change the eyebrows to arch up']</td>\n",
              "    </tr>\n",
              "    <tr>\n",
              "      <th>2</th>\n",
              "      <td>https://i.postimg.cc/3wvyVHpd/Avatar-Maker.png</td>\n",
              "      <td>https://i.postimg.cc/vB748L0y/Avatar-Maker-3.png</td>\n",
              "      <td>1</td>\n",
              "      <td>3</td>\n",
              "      <td>[]</td>\n",
              "    </tr>\n",
              "    <tr>\n",
              "      <th>3</th>\n",
              "      <td>https://i.postimg.cc/3wvyVHpd/Avatar-Maker.png</td>\n",
              "      <td>https://i.postimg.cc/XvLMVr9h/Avatar-Maker-4.png</td>\n",
              "      <td>1</td>\n",
              "      <td>4</td>\n",
              "      <td>['Change the eyebrow shape', 'Change the eye s...</td>\n",
              "    </tr>\n",
              "    <tr>\n",
              "      <th>4</th>\n",
              "      <td>https://i.postimg.cc/3wvyVHpd/Avatar-Maker.png</td>\n",
              "      <td>https://i.postimg.cc/2yqgFTgR/Avatar-Maker-5.png</td>\n",
              "      <td>1</td>\n",
              "      <td>5</td>\n",
              "      <td>['Change the eye shape to be bigger']</td>\n",
              "    </tr>\n",
              "    <tr>\n",
              "      <th>5</th>\n",
              "      <td>https://i.postimg.cc/3wvyVHpd/Avatar-Maker.png</td>\n",
              "      <td>https://i.postimg.cc/FRHM1hZK/Avatar-Maker-6.png</td>\n",
              "      <td>1</td>\n",
              "      <td>6</td>\n",
              "      <td>[]</td>\n",
              "    </tr>\n",
              "    <tr>\n",
              "      <th>6</th>\n",
              "      <td>https://i.postimg.cc/3wvyVHpd/Avatar-Maker.png</td>\n",
              "      <td>https://i.postimg.cc/fLq6912f/Avatar-Maker-7.png</td>\n",
              "      <td>1</td>\n",
              "      <td>7</td>\n",
              "      <td>['Change the eyebrow thickness', 'Change the m...</td>\n",
              "    </tr>\n",
              "    <tr>\n",
              "      <th>7</th>\n",
              "      <td>https://i.postimg.cc/kGqP9Wpk/Avatar-Maker.png</td>\n",
              "      <td>https://i.postimg.cc/0yBvmMzw/Avatar-Maker-1.png</td>\n",
              "      <td>2</td>\n",
              "      <td>1</td>\n",
              "      <td>[]</td>\n",
              "    </tr>\n",
              "    <tr>\n",
              "      <th>8</th>\n",
              "      <td>https://i.postimg.cc/kGqP9Wpk/Avatar-Maker.png</td>\n",
              "      <td>https://i.postimg.cc/Zn77g3tP/Avatar-Maker-2.png</td>\n",
              "      <td>2</td>\n",
              "      <td>2</td>\n",
              "      <td>['Change the eye shape to be bigger']</td>\n",
              "    </tr>\n",
              "    <tr>\n",
              "      <th>9</th>\n",
              "      <td>https://i.postimg.cc/kGqP9Wpk/Avatar-Maker.png</td>\n",
              "      <td>https://i.postimg.cc/cHqN9pM1/Avatar-Maker-3.png</td>\n",
              "      <td>2</td>\n",
              "      <td>3</td>\n",
              "      <td>[]</td>\n",
              "    </tr>\n",
              "    <tr>\n",
              "      <th>10</th>\n",
              "      <td>https://i.postimg.cc/kGqP9Wpk/Avatar-Maker.png</td>\n",
              "      <td>https://i.postimg.cc/85hgqZtR/Avatar-Maker-4.png</td>\n",
              "      <td>2</td>\n",
              "      <td>4</td>\n",
              "      <td>[]</td>\n",
              "    </tr>\n",
              "    <tr>\n",
              "      <th>11</th>\n",
              "      <td>https://i.postimg.cc/kGqP9Wpk/Avatar-Maker.png</td>\n",
              "      <td>https://i.postimg.cc/J75Wxdym/Avatar-Maker-5.png</td>\n",
              "      <td>2</td>\n",
              "      <td>5</td>\n",
              "      <td>['Change the mouth to smile']</td>\n",
              "    </tr>\n",
              "    <tr>\n",
              "      <th>12</th>\n",
              "      <td>https://i.postimg.cc/kGqP9Wpk/Avatar-Maker.png</td>\n",
              "      <td>https://i.postimg.cc/WbpcH6rZ/Avatar-Maker-6.png</td>\n",
              "      <td>2</td>\n",
              "      <td>6</td>\n",
              "      <td>[]</td>\n",
              "    </tr>\n",
              "    <tr>\n",
              "      <th>13</th>\n",
              "      <td>https://i.postimg.cc/kGqP9Wpk/Avatar-Maker.png</td>\n",
              "      <td>https://i.postimg.cc/j2c0jLVC/Avatar-Maker-7.png</td>\n",
              "      <td>2</td>\n",
              "      <td>7</td>\n",
              "      <td>['Change the eyebrows to be thinner', 'Change ...</td>\n",
              "    </tr>\n",
              "    <tr>\n",
              "      <th>14</th>\n",
              "      <td>https://i.postimg.cc/PqJbxqcJ/Avatar-Maker.png</td>\n",
              "      <td>https://i.postimg.cc/xTG3phMf/Avatar-Maker-1.png</td>\n",
              "      <td>3</td>\n",
              "      <td>1</td>\n",
              "      <td>[]</td>\n",
              "    </tr>\n",
              "    <tr>\n",
              "      <th>15</th>\n",
              "      <td>https://i.postimg.cc/PqJbxqcJ/Avatar-Maker.png</td>\n",
              "      <td>https://i.postimg.cc/L8HBcD3z/Avatar-Maker-2.png</td>\n",
              "      <td>3</td>\n",
              "      <td>2</td>\n",
              "      <td>[]</td>\n",
              "    </tr>\n",
              "    <tr>\n",
              "      <th>16</th>\n",
              "      <td>https://i.postimg.cc/PqJbxqcJ/Avatar-Maker.png</td>\n",
              "      <td>https://i.postimg.cc/Fz50DVKk/Avatar-Maker-3.png</td>\n",
              "      <td>3</td>\n",
              "      <td>3</td>\n",
              "      <td>[]</td>\n",
              "    </tr>\n",
              "    <tr>\n",
              "      <th>17</th>\n",
              "      <td>https://i.postimg.cc/PqJbxqcJ/Avatar-Maker.png</td>\n",
              "      <td>https://i.postimg.cc/GmqJdDX6/Avatar-Maker-4.png</td>\n",
              "      <td>3</td>\n",
              "      <td>4</td>\n",
              "      <td>['Change the eye shape to be bigger']</td>\n",
              "    </tr>\n",
              "    <tr>\n",
              "      <th>18</th>\n",
              "      <td>https://i.postimg.cc/PqJbxqcJ/Avatar-Maker.png</td>\n",
              "      <td>https://i.postimg.cc/BvzT109g/Avatar-Maker-5.png</td>\n",
              "      <td>3</td>\n",
              "      <td>5</td>\n",
              "      <td>['Change the mouth to frown']</td>\n",
              "    </tr>\n",
              "    <tr>\n",
              "      <th>19</th>\n",
              "      <td>https://i.postimg.cc/PqJbxqcJ/Avatar-Maker.png</td>\n",
              "      <td>https://i.postimg.cc/G2skF5b1/Avatar-Maker-6.png</td>\n",
              "      <td>3</td>\n",
              "      <td>6</td>\n",
              "      <td>['Change the eyebrows to be thinner', 'Change ...</td>\n",
              "    </tr>\n",
              "    <tr>\n",
              "      <th>20</th>\n",
              "      <td>https://i.postimg.cc/PqJbxqcJ/Avatar-Maker.png</td>\n",
              "      <td>https://i.postimg.cc/rs1xbRdn/Avatar-Maker-7.png</td>\n",
              "      <td>3</td>\n",
              "      <td>7</td>\n",
              "      <td>['Change the eyebrows to be thinner', 'Change ...</td>\n",
              "    </tr>\n",
              "    <tr>\n",
              "      <th>21</th>\n",
              "      <td>https://i.postimg.cc/SspKPTW4/Avatar-Maker.png</td>\n",
              "      <td>https://i.postimg.cc/tRNsKjSM/Avatar-Maker-1.png</td>\n",
              "      <td>4</td>\n",
              "      <td>1</td>\n",
              "      <td>[]</td>\n",
              "    </tr>\n",
              "    <tr>\n",
              "      <th>22</th>\n",
              "      <td>https://i.postimg.cc/SspKPTW4/Avatar-Maker.png</td>\n",
              "      <td>https://i.postimg.cc/hPCfG0q8/Avatar-Maker-2.png</td>\n",
              "      <td>4</td>\n",
              "      <td>2</td>\n",
              "      <td>[]</td>\n",
              "    </tr>\n",
              "    <tr>\n",
              "      <th>23</th>\n",
              "      <td>https://i.postimg.cc/SspKPTW4/Avatar-Maker.png</td>\n",
              "      <td>https://i.postimg.cc/ncVXZPNc/Avatar-Maker-3.png</td>\n",
              "      <td>4</td>\n",
              "      <td>3</td>\n",
              "      <td>[]</td>\n",
              "    </tr>\n",
              "    <tr>\n",
              "      <th>24</th>\n",
              "      <td>https://i.postimg.cc/SspKPTW4/Avatar-Maker.png</td>\n",
              "      <td>https://i.postimg.cc/HkVj87pq/Avatar-Maker-4.png</td>\n",
              "      <td>4</td>\n",
              "      <td>4</td>\n",
              "      <td>[]</td>\n",
              "    </tr>\n",
              "    <tr>\n",
              "      <th>25</th>\n",
              "      <td>https://i.postimg.cc/SspKPTW4/Avatar-Maker.png</td>\n",
              "      <td>https://i.postimg.cc/DzGZBk45/Avatar-Maker-5.png</td>\n",
              "      <td>4</td>\n",
              "      <td>5</td>\n",
              "      <td>[]</td>\n",
              "    </tr>\n",
              "    <tr>\n",
              "      <th>26</th>\n",
              "      <td>https://i.postimg.cc/SspKPTW4/Avatar-Maker.png</td>\n",
              "      <td>https://i.postimg.cc/d1m0c2By/Avatar-Maker-6.png</td>\n",
              "      <td>4</td>\n",
              "      <td>6</td>\n",
              "      <td>['Change the mouth to neutral']</td>\n",
              "    </tr>\n",
              "    <tr>\n",
              "      <th>27</th>\n",
              "      <td>https://i.postimg.cc/SspKPTW4/Avatar-Maker.png</td>\n",
              "      <td>https://i.postimg.cc/rw3s1FsK/Avatar-Maker-7.png</td>\n",
              "      <td>4</td>\n",
              "      <td>7</td>\n",
              "      <td>['Change the mouth to neutral', 'Change the ey...</td>\n",
              "    </tr>\n",
              "    <tr>\n",
              "      <th>28</th>\n",
              "      <td>https://i.postimg.cc/mkmCBfwC/Avatar-Maker.png</td>\n",
              "      <td>https://i.postimg.cc/Kv9DyLqw/Avatar-Maker-1.png</td>\n",
              "      <td>5</td>\n",
              "      <td>1</td>\n",
              "      <td>[]</td>\n",
              "    </tr>\n",
              "    <tr>\n",
              "      <th>29</th>\n",
              "      <td>https://i.postimg.cc/mkmCBfwC/Avatar-Maker.png</td>\n",
              "      <td>https://i.postimg.cc/vZcL8BCB/Avatar-Maker-2.png</td>\n",
              "      <td>5</td>\n",
              "      <td>2</td>\n",
              "      <td>[]</td>\n",
              "    </tr>\n",
              "    <tr>\n",
              "      <th>30</th>\n",
              "      <td>https://i.postimg.cc/mkmCBfwC/Avatar-Maker.png</td>\n",
              "      <td>https://i.postimg.cc/QdwgFDrq/Avatar-Maker-3.png</td>\n",
              "      <td>5</td>\n",
              "      <td>3</td>\n",
              "      <td>[]</td>\n",
              "    </tr>\n",
              "    <tr>\n",
              "      <th>31</th>\n",
              "      <td>https://i.postimg.cc/mkmCBfwC/Avatar-Maker.png</td>\n",
              "      <td>https://i.postimg.cc/mr9YMnLW/Avatar-Maker-4.png</td>\n",
              "      <td>5</td>\n",
              "      <td>4</td>\n",
              "      <td>['Change the eye shape to be smaller']</td>\n",
              "    </tr>\n",
              "    <tr>\n",
              "      <th>32</th>\n",
              "      <td>https://i.postimg.cc/mkmCBfwC/Avatar-Maker.png</td>\n",
              "      <td>https://i.postimg.cc/JnWbQQ0D/Avatar-Maker-5.png</td>\n",
              "      <td>5</td>\n",
              "      <td>5</td>\n",
              "      <td>['Change the mouth to smile with teeth']</td>\n",
              "    </tr>\n",
              "    <tr>\n",
              "      <th>33</th>\n",
              "      <td>https://i.postimg.cc/mkmCBfwC/Avatar-Maker.png</td>\n",
              "      <td>https://i.postimg.cc/4yfVDNzX/Avatar-Maker-6.png</td>\n",
              "      <td>5</td>\n",
              "      <td>6</td>\n",
              "      <td>['Change the mouth to smile with teeth']</td>\n",
              "    </tr>\n",
              "    <tr>\n",
              "      <th>34</th>\n",
              "      <td>https://i.postimg.cc/mkmCBfwC/Avatar-Maker.png</td>\n",
              "      <td>https://i.postimg.cc/4dbp2hH8/Avatar-Maker-7.png</td>\n",
              "      <td>5</td>\n",
              "      <td>7</td>\n",
              "      <td>['Change the eye shape to be smaller', 'Change...</td>\n",
              "    </tr>\n",
              "  </tbody>\n",
              "</table>\n",
              "</div>"
            ],
            "text/plain": [
              "                                          og_image  ...                                        description\n",
              "0   https://i.postimg.cc/3wvyVHpd/Avatar-Maker.png  ...              ['Change the eyebrows to be thicker']\n",
              "1   https://i.postimg.cc/3wvyVHpd/Avatar-Maker.png  ...                 ['Change the eyebrows to arch up']\n",
              "2   https://i.postimg.cc/3wvyVHpd/Avatar-Maker.png  ...                                                 []\n",
              "3   https://i.postimg.cc/3wvyVHpd/Avatar-Maker.png  ...  ['Change the eyebrow shape', 'Change the eye s...\n",
              "4   https://i.postimg.cc/3wvyVHpd/Avatar-Maker.png  ...              ['Change the eye shape to be bigger']\n",
              "5   https://i.postimg.cc/3wvyVHpd/Avatar-Maker.png  ...                                                 []\n",
              "6   https://i.postimg.cc/3wvyVHpd/Avatar-Maker.png  ...  ['Change the eyebrow thickness', 'Change the m...\n",
              "7   https://i.postimg.cc/kGqP9Wpk/Avatar-Maker.png  ...                                                 []\n",
              "8   https://i.postimg.cc/kGqP9Wpk/Avatar-Maker.png  ...              ['Change the eye shape to be bigger']\n",
              "9   https://i.postimg.cc/kGqP9Wpk/Avatar-Maker.png  ...                                                 []\n",
              "10  https://i.postimg.cc/kGqP9Wpk/Avatar-Maker.png  ...                                                 []\n",
              "11  https://i.postimg.cc/kGqP9Wpk/Avatar-Maker.png  ...                      ['Change the mouth to smile']\n",
              "12  https://i.postimg.cc/kGqP9Wpk/Avatar-Maker.png  ...                                                 []\n",
              "13  https://i.postimg.cc/kGqP9Wpk/Avatar-Maker.png  ...  ['Change the eyebrows to be thinner', 'Change ...\n",
              "14  https://i.postimg.cc/PqJbxqcJ/Avatar-Maker.png  ...                                                 []\n",
              "15  https://i.postimg.cc/PqJbxqcJ/Avatar-Maker.png  ...                                                 []\n",
              "16  https://i.postimg.cc/PqJbxqcJ/Avatar-Maker.png  ...                                                 []\n",
              "17  https://i.postimg.cc/PqJbxqcJ/Avatar-Maker.png  ...              ['Change the eye shape to be bigger']\n",
              "18  https://i.postimg.cc/PqJbxqcJ/Avatar-Maker.png  ...                      ['Change the mouth to frown']\n",
              "19  https://i.postimg.cc/PqJbxqcJ/Avatar-Maker.png  ...  ['Change the eyebrows to be thinner', 'Change ...\n",
              "20  https://i.postimg.cc/PqJbxqcJ/Avatar-Maker.png  ...  ['Change the eyebrows to be thinner', 'Change ...\n",
              "21  https://i.postimg.cc/SspKPTW4/Avatar-Maker.png  ...                                                 []\n",
              "22  https://i.postimg.cc/SspKPTW4/Avatar-Maker.png  ...                                                 []\n",
              "23  https://i.postimg.cc/SspKPTW4/Avatar-Maker.png  ...                                                 []\n",
              "24  https://i.postimg.cc/SspKPTW4/Avatar-Maker.png  ...                                                 []\n",
              "25  https://i.postimg.cc/SspKPTW4/Avatar-Maker.png  ...                                                 []\n",
              "26  https://i.postimg.cc/SspKPTW4/Avatar-Maker.png  ...                    ['Change the mouth to neutral']\n",
              "27  https://i.postimg.cc/SspKPTW4/Avatar-Maker.png  ...  ['Change the mouth to neutral', 'Change the ey...\n",
              "28  https://i.postimg.cc/mkmCBfwC/Avatar-Maker.png  ...                                                 []\n",
              "29  https://i.postimg.cc/mkmCBfwC/Avatar-Maker.png  ...                                                 []\n",
              "30  https://i.postimg.cc/mkmCBfwC/Avatar-Maker.png  ...                                                 []\n",
              "31  https://i.postimg.cc/mkmCBfwC/Avatar-Maker.png  ...             ['Change the eye shape to be smaller']\n",
              "32  https://i.postimg.cc/mkmCBfwC/Avatar-Maker.png  ...           ['Change the mouth to smile with teeth']\n",
              "33  https://i.postimg.cc/mkmCBfwC/Avatar-Maker.png  ...           ['Change the mouth to smile with teeth']\n",
              "34  https://i.postimg.cc/mkmCBfwC/Avatar-Maker.png  ...  ['Change the eye shape to be smaller', 'Change...\n",
              "\n",
              "[35 rows x 5 columns]"
            ]
          },
          "metadata": {
            "tags": []
          },
          "execution_count": 65
        }
      ]
    },
    {
      "cell_type": "code",
      "metadata": {
        "id": "iTAZNXqnUTOn"
      },
      "source": [
        ""
      ],
      "execution_count": null,
      "outputs": []
    },
    {
      "cell_type": "code",
      "metadata": {
        "id": "Vms7-1AO8_NL"
      },
      "source": [
        "from sklearn import cluster\n",
        "from sklearn import metrics\n",
        "from gensim.models import Word2Vec\n",
        "from nltk.cluster import KMeansClusterer\n",
        "import nltk\n",
        "import pandas as pd"
      ],
      "execution_count": null,
      "outputs": []
    },
    {
      "cell_type": "code",
      "metadata": {
        "id": "d_ipgtH2Gjrz"
      },
      "source": [
        "# Incorporate the words into \n",
        "def embed(df, tp='word2vec'):\n",
        "  #words = df.word.values\n",
        "  words = ['large', 'small', 'banana', 'orange']\n",
        "  words = \"red blue yellow green purple orange red red government\"\n",
        "  words = words.split(\" \")\n",
        "  sentences = [[i] for i in words]\n",
        "\n",
        "  if tp == 'word2vec':\n",
        "    model = Word2Vec(sentences, min_count=1)\n",
        "  #elif tp == 'glove':\n",
        "\n",
        "\n",
        "  return model\n",
        "\n",
        "def clusterWords(model, num, tp='sklearn'):\n",
        "  X = model.wv[model.wv.vocab]\n",
        "\n",
        "  if tp == 'nltk':\n",
        "    kclusterer = KMeansClusterer(num, distance=nltk.cluster.util.cosine_distance, repeats=50)\n",
        "    kmeans = kclusterer.cluster(X, assign_clusters=True)\n",
        "  elif tp == 'sklearn':\n",
        "    kmeans = cluster.KMeans(n_clusters=num)\n",
        "    kmeans.fit(X)\n",
        "\n",
        "  return kmeans, X\n",
        "\n",
        "\n",
        " \n",
        "\n",
        "\n",
        "\n",
        "model = embed(df)\n",
        "kmeans, X = clusterWords(model, 2, 'nltk')\n",
        "\n",
        "\n",
        "#labels = kmeans.labels_\n",
        "#centroids = kmeans.cluster_centers_\n",
        " \n",
        "#labels"
      ],
      "execution_count": null,
      "outputs": []
    },
    {
      "cell_type": "code",
      "metadata": {
        "colab": {
          "base_uri": "https://localhost:8080/"
        },
        "id": "EsyYFYjmBaCR",
        "outputId": "9342722f-e35f-4e59-889d-edb827602fc0"
      },
      "source": [
        "sorted_words = {}\n",
        "words = list(model.wv.vocab)\n",
        "for i, word in enumerate(words):\n",
        "  c = kmeans[i]  \n",
        "  if c not in sorted_words:\n",
        "    sorted_words[c] = []\n",
        "  sorted_words[c].append(word)\n",
        "  #print (word + \":\" + str(kmeans[i]))\n",
        "sorted_words"
      ],
      "execution_count": null,
      "outputs": [
        {
          "output_type": "execute_result",
          "data": {
            "text/plain": [
              "{0: ['red', 'blue', 'green', 'purple'], 1: ['yellow', 'orange', 'government']}"
            ]
          },
          "metadata": {
            "tags": []
          },
          "execution_count": 79
        }
      ]
    },
    {
      "cell_type": "code",
      "metadata": {
        "colab": {
          "base_uri": "https://localhost:8080/"
        },
        "id": "u89uSmgiiNjO",
        "outputId": "f70d4c79-3c4d-482b-ce84-0826408d11fc"
      },
      "source": [
        "differences = {}\n",
        "for i in range(len(words)):\n",
        "  for j in range(i+1, len(words)):\n",
        "    w1 = words[i]\n",
        "    w2 = words[j]\n",
        "    print()\n",
        "    print(w1, w2, model.wv.similarity(w1, w2))\n",
        "    differences[(w1,w2)] = model.wv.similarity(w1, w2)\n"
      ],
      "execution_count": null,
      "outputs": [
        {
          "output_type": "stream",
          "text": [
            "\n",
            "red blue 0.08763946\n",
            "\n",
            "red yellow -0.14273325\n",
            "\n",
            "red green 0.043869417\n",
            "\n",
            "red purple 0.028464526\n",
            "\n",
            "red orange -0.12156652\n",
            "\n",
            "red government -0.11705888\n",
            "\n",
            "blue yellow 0.011664117\n",
            "\n",
            "blue green -0.13467956\n",
            "\n",
            "blue purple -0.06686314\n",
            "\n",
            "blue orange -0.019728249\n",
            "\n",
            "blue government -0.13276368\n",
            "\n",
            "yellow green -0.06961025\n",
            "\n",
            "yellow purple -0.13141552\n",
            "\n",
            "yellow orange 0.09196616\n",
            "\n",
            "yellow government -0.0030909404\n",
            "\n",
            "green purple -0.101502866\n",
            "\n",
            "green orange -0.07981016\n",
            "\n",
            "green government -0.017474642\n",
            "\n",
            "purple orange -0.084318236\n",
            "\n",
            "purple government -0.017383978\n",
            "\n",
            "orange government 0.1208115\n"
          ],
          "name": "stdout"
        }
      ]
    },
    {
      "cell_type": "code",
      "metadata": {
        "colab": {
          "base_uri": "https://localhost:8080/"
        },
        "id": "9rERQEYdiNlk",
        "outputId": "60dc67a5-8068-4889-9821-02c6f912ad4b"
      },
      "source": [
        "sorted(differences.items(), key=lambda item:item[1])\n"
      ],
      "execution_count": null,
      "outputs": [
        {
          "output_type": "execute_result",
          "data": {
            "text/plain": [
              "[(('red', 'yellow'), -0.14273325),\n",
              " (('orange', 'harmony'), -0.14190468),\n",
              " (('blue', 'green'), -0.13467956),\n",
              " (('yellow', 'purple'), -0.13141552),\n",
              " (('red', 'orange'), -0.12156652),\n",
              " (('purple', 'harmony'), -0.11143582),\n",
              " (('green', 'purple'), -0.101502866),\n",
              " (('purple', 'orange'), -0.084318236),\n",
              " (('red', 'harmony'), -0.08428808),\n",
              " (('green', 'orange'), -0.07981016),\n",
              " (('yellow', 'green'), -0.06961025),\n",
              " (('blue', 'purple'), -0.06686314),\n",
              " (('green', 'harmony'), -0.057916965),\n",
              " (('blue', 'orange'), -0.019728249),\n",
              " (('blue', 'yellow'), 0.011664117),\n",
              " (('red', 'purple'), 0.028464526),\n",
              " (('red', 'green'), 0.043869417),\n",
              " (('blue', 'harmony'), 0.047882743),\n",
              " (('red', 'blue'), 0.08763946),\n",
              " (('yellow', 'orange'), 0.09196616),\n",
              " (('yellow', 'harmony'), 0.20363523)]"
            ]
          },
          "metadata": {
            "tags": []
          },
          "execution_count": 59
        }
      ]
    },
    {
      "cell_type": "code",
      "metadata": {
        "colab": {
          "base_uri": "https://localhost:8080/"
        },
        "id": "7Jeyx-2OjP-9",
        "outputId": "fc1f478e-9889-49e1-ecc9-401d049caa76"
      },
      "source": [
        "[i[1] for i in differences.items()]"
      ],
      "execution_count": null,
      "outputs": [
        {
          "output_type": "execute_result",
          "data": {
            "text/plain": [
              "[0.08763946,\n",
              " -0.14273325,\n",
              " 0.043869417,\n",
              " 0.028464526,\n",
              " -0.12156652,\n",
              " -0.08428808,\n",
              " 0.011664117,\n",
              " -0.13467956,\n",
              " -0.06686314,\n",
              " -0.019728249,\n",
              " 0.047882743,\n",
              " -0.06961025,\n",
              " -0.13141552,\n",
              " 0.09196616,\n",
              " 0.20363523,\n",
              " -0.101502866,\n",
              " -0.07981016,\n",
              " -0.057916965,\n",
              " -0.084318236,\n",
              " -0.11143582,\n",
              " -0.14190468]"
            ]
          },
          "metadata": {
            "tags": []
          },
          "execution_count": 55
        }
      ]
    },
    {
      "cell_type": "code",
      "metadata": {
        "colab": {
          "base_uri": "https://localhost:8080/"
        },
        "id": "zyt4NYq-BaKp",
        "outputId": "3940ddbd-e8c1-4aa3-a184-f5f0db8c61ba"
      },
      "source": [
        "\n",
        "\n",
        "\n",
        "\n",
        "\n",
        "\n",
        "\n",
        "labels = kmeans.labels_\n",
        "centroids = kmeans.cluster_centers_\n",
        " \n",
        "print (\"Cluster id labels for inputted data\")\n",
        "print (labels)\n",
        "print (\"Centroids data\")\n",
        "print (centroids)\n",
        " \n",
        "print (\"Score (Opposite of the value of X on the K-means objective which is Sum of distances of samples to their closest cluster center):\")\n",
        "print (kmeans.score(X))\n",
        " \n",
        "silhouette_score = metrics.silhouette_score(X, labels, metric='euclidean')\n",
        " \n",
        "print (\"Silhouette_score: \")\n",
        "print (silhouette_score)"
      ],
      "execution_count": null,
      "outputs": [
        {
          "output_type": "stream",
          "text": [
            "Cluster id labels for inputted data\n",
            "[1 1 0 1 1 0 0]\n",
            "Centroids data\n",
            "[[ 1.70305697e-03  6.21058978e-04 -8.42407753e-04 -9.36294091e-05\n",
            "  -1.32785004e-04  1.68527523e-03  1.20962481e-03  1.77689129e-03\n",
            "   2.20742798e-03 -1.33794895e-03 -1.78830477e-03  2.11744220e-03\n",
            "   1.89518859e-03  1.44440366e-03 -1.00211869e-03  9.09585331e-04\n",
            "  -2.31439248e-04  1.72624830e-04  2.56121298e-03  3.22271371e-05\n",
            "  -2.09105248e-03 -8.11554724e-04  2.77334405e-03 -1.56504777e-03\n",
            "  -1.23283302e-04  3.30784312e-03  1.44899415e-04  1.68237486e-03\n",
            "   8.18020198e-04  1.63187878e-03  7.94530555e-04  5.00809751e-04\n",
            "   3.45019717e-03  1.22642401e-03 -1.39960239e-03 -1.75483839e-03\n",
            "   2.95968167e-03  5.95373160e-04 -1.74564263e-03  5.78113133e-04\n",
            "  -1.31676171e-03  6.20947685e-04 -1.83236704e-03  1.04650389e-05\n",
            "   9.85233346e-04 -3.04194237e-03  1.39651704e-03 -2.79371673e-03\n",
            "  -1.78807660e-03  9.73221206e-04  5.64434973e-04 -1.12062832e-03\n",
            "   3.30429547e-03 -4.07041167e-04  1.79192575e-03 -1.10953907e-03\n",
            "  -1.55960291e-03  3.25497077e-03  1.00453966e-03 -2.53274129e-03\n",
            "   7.78532180e-04 -3.46769509e-03  2.42867391e-03 -3.20672686e-03\n",
            "  -1.26200169e-03 -1.82284822e-03  1.03667064e-03  1.09448167e-03\n",
            "   3.66543327e-03  1.51378015e-04 -2.33138911e-04  1.87922840e-03\n",
            "  -1.91074680e-03 -1.08570559e-03  2.08830414e-03  1.30038522e-03\n",
            "   9.35103453e-04 -5.81088942e-04  9.22036939e-04  8.45953822e-04\n",
            "  -2.15992052e-03  1.02612248e-03 -1.63760548e-03  3.43006453e-04\n",
            "  -1.22478930e-04 -1.22835033e-03 -3.90747096e-03 -7.75596127e-04\n",
            "   5.25060866e-04  6.72037131e-04  3.50609305e-04 -1.15857413e-03\n",
            "   5.55295497e-04  2.84832320e-03 -3.75921227e-05  9.70879337e-05\n",
            "   2.76241312e-03  6.63832005e-04  2.07867986e-03  6.50650705e-04]\n",
            " [ 2.59367749e-04  9.84093058e-05  1.43833575e-03  1.30024436e-03\n",
            "  -1.42983114e-03 -2.78204121e-03  2.32361816e-03 -3.90507746e-04\n",
            "   5.70180709e-04  2.83011934e-03 -9.85361286e-04 -1.57806196e-03\n",
            "   4.48490202e-04 -1.36414962e-03  1.01741182e-03 -1.77924079e-03\n",
            "   1.21833081e-03  6.35205884e-04  3.60003673e-04 -5.82008681e-04\n",
            "   2.06991797e-03  1.44649064e-04 -2.11720658e-03  6.82070968e-05\n",
            "  -5.04993834e-04  1.28673099e-03  1.02792354e-03  2.33133440e-04\n",
            "   1.10427942e-03  1.42272701e-03  1.13605114e-03  2.51094723e-04\n",
            "  -1.58935774e-03 -3.46845854e-03 -1.15341181e-03 -1.08318636e-04\n",
            "  -4.61849268e-04 -5.72020537e-04 -8.67483672e-04 -2.11713789e-03\n",
            "  -1.06902386e-04  1.19351363e-03  8.81250482e-04 -5.65655064e-04\n",
            "  -2.37469049e-03  2.24840478e-03 -3.09838622e-04  7.46943813e-04\n",
            "   9.92361223e-04 -1.83585938e-03 -1.54003245e-03 -6.37942518e-04\n",
            "  -1.95679488e-04 -1.40174327e-03 -1.44599308e-03 -1.53205846e-03\n",
            "  -1.91532879e-03 -1.63085992e-03 -2.92253797e-04  1.38675969e-03\n",
            "  -1.08577125e-03 -3.55103379e-03 -1.63871783e-03 -4.87427809e-04\n",
            "  -4.08262771e-04  1.55068119e-03 -1.18232029e-03  2.07404979e-03\n",
            "  -8.47890391e-04 -4.30133630e-04 -1.03549170e-03  1.13638001e-03\n",
            "   1.52360415e-03 -1.17298332e-04 -1.70431135e-03  2.96014245e-04\n",
            "  -3.45223059e-04 -1.88206939e-03 -4.58191207e-05 -9.57937329e-04\n",
            "   6.52295654e-04 -1.47056195e-03 -6.72664493e-04  9.90710687e-05\n",
            "  -2.45893374e-03 -7.41229043e-04  8.41644127e-04  2.85426242e-04\n",
            "   3.29677248e-04 -1.88729237e-03  2.20822776e-03 -5.41403308e-04\n",
            "   1.24163565e-03 -4.65476187e-05  8.22928196e-05  1.59147708e-03\n",
            "  -2.29416741e-03 -2.47496064e-05 -1.18754024e-03  8.42764857e-04]]\n",
            "Score (Opposite of the value of X on the K-means objective which is Sum of distances of samples to their closest cluster center):\n",
            "-0.0038823867\n",
            "Silhouette_score: \n",
            "0.0385049\n"
          ],
          "name": "stdout"
        }
      ]
    },
    {
      "cell_type": "markdown",
      "metadata": {
        "id": "bZDlRT9XAO4n"
      },
      "source": [
        "# Fake Data"
      ]
    },
    {
      "cell_type": "code",
      "metadata": {
        "id": "WkybR8BnARVk"
      },
      "source": [
        "data = [\n",
        "        {'word': \"red\", 'group': 1, 'diff1': True, 'diff2': True, 'diff3': False, 'diff4': False, 'diff5': True},\n",
        "        {'word': \"blue\", 'group': 1, 'diff1': True, 'diff2': True, 'diff3': False, 'diff4': False, 'diff5': True},\n",
        "        {'word': \"yellow\", 'group': 1, 'diff1': True, 'diff2': True, 'diff3': False, 'diff4': False, 'diff5': True},\n",
        "        {'word': \"pink\", 'group': 1, 'diff1': True, 'diff2': True, 'diff3': False, 'diff4': False, 'diff5': True},\n",
        "        {'word': \"large\", 'group': 1, 'diff1': True, 'diff2': True, 'diff3': False, 'diff4': False, 'diff5': True},\n",
        "        {'word': \"small\", 'group': 1, 'diff1': True, 'diff2': True, 'diff3': False, 'diff4': False, 'diff5': True},\n",
        "        {'word': \"tiny\", 'group': 1, 'diff1': True, 'diff2': True, 'diff3': False, 'diff4': False, 'diff5': True},\n",
        "        {'word': \"thin\", 'group': 1, 'diff1': True, 'diff2': True, 'diff3': False, 'diff4': False, 'diff5': True},\n",
        "]\n",
        "\n",
        "df = pd.DataFrame(data)"
      ],
      "execution_count": null,
      "outputs": []
    },
    {
      "cell_type": "code",
      "metadata": {
        "colab": {
          "base_uri": "https://localhost:8080/",
          "height": 297
        },
        "id": "97m7qktqARTL",
        "outputId": "b1160eef-8de3-4779-d9b2-09761aca5a98"
      },
      "source": [
        "df"
      ],
      "execution_count": null,
      "outputs": [
        {
          "output_type": "execute_result",
          "data": {
            "text/html": [
              "<div>\n",
              "<style scoped>\n",
              "    .dataframe tbody tr th:only-of-type {\n",
              "        vertical-align: middle;\n",
              "    }\n",
              "\n",
              "    .dataframe tbody tr th {\n",
              "        vertical-align: top;\n",
              "    }\n",
              "\n",
              "    .dataframe thead th {\n",
              "        text-align: right;\n",
              "    }\n",
              "</style>\n",
              "<table border=\"1\" class=\"dataframe\">\n",
              "  <thead>\n",
              "    <tr style=\"text-align: right;\">\n",
              "      <th></th>\n",
              "      <th>word</th>\n",
              "      <th>group</th>\n",
              "      <th>diff1</th>\n",
              "      <th>diff2</th>\n",
              "      <th>diff3</th>\n",
              "      <th>diff4</th>\n",
              "      <th>diff5</th>\n",
              "    </tr>\n",
              "  </thead>\n",
              "  <tbody>\n",
              "    <tr>\n",
              "      <th>0</th>\n",
              "      <td>red</td>\n",
              "      <td>1</td>\n",
              "      <td>True</td>\n",
              "      <td>True</td>\n",
              "      <td>False</td>\n",
              "      <td>False</td>\n",
              "      <td>True</td>\n",
              "    </tr>\n",
              "    <tr>\n",
              "      <th>1</th>\n",
              "      <td>blue</td>\n",
              "      <td>1</td>\n",
              "      <td>True</td>\n",
              "      <td>True</td>\n",
              "      <td>False</td>\n",
              "      <td>False</td>\n",
              "      <td>True</td>\n",
              "    </tr>\n",
              "    <tr>\n",
              "      <th>2</th>\n",
              "      <td>yellow</td>\n",
              "      <td>1</td>\n",
              "      <td>True</td>\n",
              "      <td>True</td>\n",
              "      <td>False</td>\n",
              "      <td>False</td>\n",
              "      <td>True</td>\n",
              "    </tr>\n",
              "    <tr>\n",
              "      <th>3</th>\n",
              "      <td>pink</td>\n",
              "      <td>1</td>\n",
              "      <td>True</td>\n",
              "      <td>True</td>\n",
              "      <td>False</td>\n",
              "      <td>False</td>\n",
              "      <td>True</td>\n",
              "    </tr>\n",
              "    <tr>\n",
              "      <th>4</th>\n",
              "      <td>large</td>\n",
              "      <td>1</td>\n",
              "      <td>True</td>\n",
              "      <td>True</td>\n",
              "      <td>False</td>\n",
              "      <td>False</td>\n",
              "      <td>True</td>\n",
              "    </tr>\n",
              "    <tr>\n",
              "      <th>5</th>\n",
              "      <td>small</td>\n",
              "      <td>1</td>\n",
              "      <td>True</td>\n",
              "      <td>True</td>\n",
              "      <td>False</td>\n",
              "      <td>False</td>\n",
              "      <td>True</td>\n",
              "    </tr>\n",
              "    <tr>\n",
              "      <th>6</th>\n",
              "      <td>tiny</td>\n",
              "      <td>1</td>\n",
              "      <td>True</td>\n",
              "      <td>True</td>\n",
              "      <td>False</td>\n",
              "      <td>False</td>\n",
              "      <td>True</td>\n",
              "    </tr>\n",
              "    <tr>\n",
              "      <th>7</th>\n",
              "      <td>thin</td>\n",
              "      <td>1</td>\n",
              "      <td>True</td>\n",
              "      <td>True</td>\n",
              "      <td>False</td>\n",
              "      <td>False</td>\n",
              "      <td>True</td>\n",
              "    </tr>\n",
              "  </tbody>\n",
              "</table>\n",
              "</div>"
            ],
            "text/plain": [
              "     word  group  diff1  diff2  diff3  diff4  diff5\n",
              "0     red      1   True   True  False  False   True\n",
              "1    blue      1   True   True  False  False   True\n",
              "2  yellow      1   True   True  False  False   True\n",
              "3    pink      1   True   True  False  False   True\n",
              "4   large      1   True   True  False  False   True\n",
              "5   small      1   True   True  False  False   True\n",
              "6    tiny      1   True   True  False  False   True\n",
              "7    thin      1   True   True  False  False   True"
            ]
          },
          "metadata": {
            "tags": []
          },
          "execution_count": 26
        }
      ]
    },
    {
      "cell_type": "code",
      "metadata": {
        "id": "F5R3fidyAQ4F"
      },
      "source": [
        ""
      ],
      "execution_count": null,
      "outputs": []
    },
    {
      "cell_type": "markdown",
      "metadata": {
        "id": "fFymrcvwAO2h"
      },
      "source": [
        ""
      ]
    },
    {
      "cell_type": "markdown",
      "metadata": {
        "id": "HDxNeje-6hZK"
      },
      "source": [
        "# Testing with example from \n",
        "\n",
        "https://ai.intelligentonlinetools.com/ml/k-means-clustering-example-word2vec/"
      ]
    },
    {
      "cell_type": "code",
      "metadata": {
        "id": "Xsd2SijZ9Bd_"
      },
      "source": [
        "from sklearn import cluster\n",
        "from sklearn import metrics\n",
        "from gensim.models import Word2Vec\n",
        "from nltk.cluster import KMeansClusterer\n",
        "import nltk"
      ],
      "execution_count": null,
      "outputs": []
    },
    {
      "cell_type": "code",
      "metadata": {
        "id": "zWmHYno-9Bzt"
      },
      "source": [
        "sentences = [['this', 'is', 'the', 'good', 'machine', 'learning', 'book'],\n",
        "            ['this', 'is',  'another', 'book'],\n",
        "            ['one', 'more', 'book'],\n",
        "            ['this', 'is', 'the', 'new', 'post'],\n",
        "                        ['this', 'is', 'about', 'machine', 'learning', 'post'],  \n",
        "            ['and', 'this', 'is', 'the', 'last', 'post']]\n",
        "model = Word2Vec(sentences, min_count=1)"
      ],
      "execution_count": null,
      "outputs": []
    },
    {
      "cell_type": "code",
      "metadata": {
        "colab": {
          "base_uri": "https://localhost:8080/"
        },
        "id": "gUgQbKt--EBr",
        "outputId": "5da0eaed-6cad-4cab-fbf2-3e930ffb4222"
      },
      "source": [
        "print (model.wv.similarity('this', 'is'))\n",
        "print (model.wv.similarity('post', 'book'))\n",
        "#output -0.0198180344218\n",
        "#output -0.079446731287\n",
        "print (model.wv.most_similar(positive=['machine'], negative=[], topn=2))\n",
        "#output: [('new', 0.24608060717582703), ('is', 0.06899910420179367)]\n",
        "print (model['the'])"
      ],
      "execution_count": null,
      "outputs": [
        {
          "output_type": "stream",
          "text": [
            "0.004072969\n",
            "-0.15362132\n",
            "[('another', 0.1472105085849762), ('good', 0.13864193856716156)]\n",
            "[ 1.1968825e-03  4.3255035e-03  4.1006166e-03  1.8331759e-04\n",
            "  6.4613973e-04 -3.8339105e-03  4.5207166e-03  1.5275250e-03\n",
            " -8.8716013e-04  4.8620780e-03  4.9989526e-03 -4.0898807e-03\n",
            " -2.8450361e-03 -1.0718415e-03  2.7223208e-03  9.2118612e-04\n",
            " -4.2094253e-03  4.0203021e-03  4.0164017e-03 -1.4019865e-03\n",
            " -1.3000200e-03  2.4832729e-03 -1.6912483e-03  4.9183634e-03\n",
            " -1.1822173e-03  3.9713050e-06  6.6081109e-04  3.3238260e-03\n",
            " -3.6936486e-03 -2.5759507e-03 -2.6424450e-03  4.8213876e-03\n",
            "  3.9296565e-03 -1.1138326e-03  2.3995637e-04 -1.8907835e-03\n",
            " -9.3792094e-04 -3.7914685e-03  1.0849691e-03  1.2446115e-03\n",
            "  4.8413179e-03 -2.2058238e-03  3.3792614e-03  4.3528182e-03\n",
            "  7.6991518e-04  4.6871258e-03 -3.3998350e-03 -2.4071152e-03\n",
            " -4.2441594e-03  1.7570914e-03  3.3590337e-04 -2.3944934e-03\n",
            " -4.3562260e-03 -4.0595802e-03  1.3464021e-03 -1.7742945e-03\n",
            " -5.9236516e-04 -8.7559898e-04  2.7585200e-03  2.3420062e-03\n",
            " -6.5873464e-05 -4.8482469e-03 -3.8322059e-03 -4.3619308e-03\n",
            "  3.7939625e-03  2.3354194e-03 -3.8758107e-03  1.5374052e-03\n",
            "  3.4193536e-03  4.2828792e-03 -4.3150902e-04 -2.4509102e-03\n",
            " -1.5967524e-03  1.0592635e-03 -1.8122050e-03  4.0646410e-03\n",
            "  2.6543126e-03  4.6952134e-03  2.6369849e-03 -1.6551444e-04\n",
            " -4.7572018e-03 -1.9942776e-03 -8.5476728e-04 -4.7329497e-03\n",
            " -4.6220077e-03  2.4223251e-03 -1.2201497e-04 -1.3305172e-03\n",
            "  4.0952871e-03 -2.3640951e-03  9.7233016e-04 -4.8980336e-03\n",
            "  1.4647885e-03 -2.9345732e-03  2.1210152e-03 -1.7544001e-04\n",
            " -4.7826897e-03  4.4480884e-03 -2.7695261e-03  4.8501710e-03]\n"
          ],
          "name": "stdout"
        },
        {
          "output_type": "stream",
          "text": [
            "/usr/local/lib/python3.7/dist-packages/ipykernel_launcher.py:7: DeprecationWarning: Call to deprecated `__getitem__` (Method will be removed in 4.0.0, use self.wv.__getitem__() instead).\n",
            "  import sys\n"
          ],
          "name": "stderr"
        }
      ]
    },
    {
      "cell_type": "code",
      "metadata": {
        "colab": {
          "base_uri": "https://localhost:8080/"
        },
        "id": "AM5O20AJ-W8R",
        "outputId": "57fe39fd-ac2f-4c3d-99fb-858becf0020d"
      },
      "source": [
        "print(list(model.wv.vocab))\n",
        "print(len(list(model.wv.vocab)))"
      ],
      "execution_count": null,
      "outputs": [
        {
          "output_type": "stream",
          "text": [
            "['this', 'is', 'the', 'good', 'machine', 'learning', 'book', 'another', 'one', 'more', 'new', 'post', 'about', 'and', 'last']\n",
            "15\n"
          ],
          "name": "stdout"
        }
      ]
    },
    {
      "cell_type": "code",
      "metadata": {
        "id": "llnyuORT-ekj"
      },
      "source": [
        "X = model.wv[model.wv.vocab]"
      ],
      "execution_count": null,
      "outputs": []
    },
    {
      "cell_type": "code",
      "metadata": {
        "colab": {
          "base_uri": "https://localhost:8080/"
        },
        "id": "R4kdVOG3-0d_",
        "outputId": "b77fde66-4ac0-458b-9a77-78da874bde77"
      },
      "source": [
        "NUM_CLUSTERS=3\n",
        "kclusterer = KMeansClusterer(NUM_CLUSTERS, distance=nltk.cluster.util.cosine_distance, repeats=25)\n",
        "assigned_clusters = kclusterer.cluster(X, assign_clusters=True)\n",
        "print (assigned_clusters)"
      ],
      "execution_count": null,
      "outputs": [
        {
          "output_type": "stream",
          "text": [
            "[2, 0, 0, 1, 0, 1, 0, 2, 0, 0, 2, 2, 1, 1, 2]\n"
          ],
          "name": "stdout"
        }
      ]
    },
    {
      "cell_type": "code",
      "metadata": {
        "colab": {
          "base_uri": "https://localhost:8080/"
        },
        "id": "2BHbU8ae-_Rb",
        "outputId": "3620e082-6882-43d9-d89c-b1fdebe73523"
      },
      "source": [
        "words = list(model.wv.vocab)\n",
        "for i, word in enumerate(words):  \n",
        "    print (word + \":\" + str(assigned_clusters[i]))"
      ],
      "execution_count": null,
      "outputs": [
        {
          "output_type": "stream",
          "text": [
            "this:2\n",
            "is:0\n",
            "the:0\n",
            "good:1\n",
            "machine:0\n",
            "learning:1\n",
            "book:0\n",
            "another:2\n",
            "one:0\n",
            "more:0\n",
            "new:2\n",
            "post:2\n",
            "about:1\n",
            "and:1\n",
            "last:2\n"
          ],
          "name": "stdout"
        }
      ]
    },
    {
      "cell_type": "code",
      "metadata": {
        "colab": {
          "base_uri": "https://localhost:8080/"
        },
        "id": "BZmFgInW_BEU",
        "outputId": "a8e5d451-2292-4f03-efc7-773a2a6b5c4d"
      },
      "source": [
        "\n",
        "kmeans = cluster.KMeans(n_clusters=NUM_CLUSTERS)\n",
        "kmeans.fit(X)\n",
        " \n",
        "labels = kmeans.labels_\n",
        "centroids = kmeans.cluster_centers_\n",
        " \n",
        "print (\"Cluster id labels for inputted data\")\n",
        "print (labels)\n",
        "print (\"Centroids data\")\n",
        "print (centroids)\n",
        " \n",
        "print (\"Score (Opposite of the value of X on the K-means objective which is Sum of distances of samples to their closest cluster center):\")\n",
        "print (kmeans.score(X))\n",
        " \n",
        "silhouette_score = metrics.silhouette_score(X, labels, metric='euclidean')\n",
        " \n",
        "print (\"Silhouette_score: \")\n",
        "print (silhouette_score)"
      ],
      "execution_count": null,
      "outputs": [
        {
          "output_type": "stream",
          "text": [
            "Cluster id labels for inputted data\n",
            "[2 2 2 0 2 0 2 2 2 2 1 1 0 2 2]\n",
            "Centroids data\n",
            "[[ 1.44972990e-03 -1.58763700e-03 -5.06237848e-06 -3.42853623e-03\n",
            "   2.41271802e-03  6.82367827e-04 -2.48773932e-03  3.11741605e-03\n",
            "   1.58064358e-04  6.37485588e-04 -2.04992574e-03  8.93124379e-04\n",
            "  -3.13322386e-03  3.32790602e-04  1.46792736e-03 -2.93810829e-03\n",
            "  -3.08433268e-03 -1.12811802e-03  2.61182175e-03  9.97002819e-04\n",
            "   1.50833407e-03 -1.07595907e-03  2.85425945e-03  1.17482617e-03\n",
            "   9.78065305e-04  1.31311617e-03 -2.15931493e-03 -7.27759791e-04\n",
            "  -4.61124768e-03 -3.46534792e-03  1.80301766e-04 -1.14757987e-03\n",
            "  -9.13295429e-04  2.84554716e-03  1.24072656e-03  1.28024991e-03\n",
            "   2.89085181e-03 -2.62422347e-03 -2.16599111e-03 -5.62531408e-04\n",
            "   2.10643141e-03 -1.34804146e-03  7.26196449e-04  2.59758788e-04\n",
            "   8.41985340e-04  1.44945947e-03 -5.71543118e-04 -1.02984626e-03\n",
            "   1.24544802e-03 -3.21851578e-03 -3.63690546e-03  1.56056485e-03\n",
            "   1.35768123e-03  1.18129945e-04 -2.19586445e-03 -1.69215468e-03\n",
            "  -1.07716734e-03 -2.64597801e-03  1.45011931e-03  6.51419628e-04\n",
            "  -2.47325352e-03  1.73258607e-03  8.22659931e-04 -9.96699557e-04\n",
            "  -1.94534252e-04  1.16051082e-03  1.07751531e-03 -2.50092312e-03\n",
            "  -2.02180143e-03 -1.64923584e-03  2.03939198e-04  2.35616043e-03\n",
            "   3.89889069e-03  7.76571047e-04  1.48847897e-03  3.83716193e-04\n",
            "  -2.08739401e-03 -3.86643317e-03  1.69640654e-04 -1.76736678e-03\n",
            "   6.00755331e-04  1.92858092e-03 -3.46246670e-05 -6.58433593e-04\n",
            "   1.87429599e-04  2.20929086e-03  5.89304953e-04  1.80740119e-03\n",
            "  -3.42064211e-03 -4.63555567e-04 -2.82687659e-04  3.31232185e-03\n",
            "   3.91164445e-04  1.47960428e-03 -3.07464250e-03 -1.97629235e-03\n",
            "  -1.36590505e-03 -5.21034526e-05  2.84436188e-04 -1.88694848e-03]\n",
            " [ 3.08266003e-03 -2.48052925e-03 -3.86038050e-03 -1.70995900e-03\n",
            "   1.64689042e-03  8.69407202e-04  1.99807272e-03  8.51868303e-04\n",
            "  -2.73525412e-03  7.58599490e-05 -3.53301363e-03 -3.47197335e-03\n",
            "   4.72496380e-04  1.98851922e-04 -1.33199291e-03 -1.19541027e-03\n",
            "   3.14018317e-03  7.67556310e-04 -1.80724193e-03  2.77491752e-04\n",
            "  -3.37391649e-03 -1.25962752e-03 -1.40968431e-03 -2.33401684e-03\n",
            "  -2.56694760e-03 -2.27015628e-03  2.88454839e-03  2.07426818e-03\n",
            "   1.26840791e-03  8.30507488e-05  1.07955514e-03  7.94751744e-04\n",
            "   8.11128935e-04  2.98917526e-04  1.56499376e-03 -2.81533255e-04\n",
            "   4.65858437e-04  1.31200394e-03  1.45831762e-03 -1.17291650e-03\n",
            "  -8.39847431e-04 -4.07383498e-03  4.70417144e-05 -3.82847129e-03\n",
            "   1.84696447e-03  7.24260346e-04 -2.95470655e-03 -1.94322132e-03\n",
            "   1.32762652e-04  7.71767693e-04 -1.98656600e-03  4.01837344e-04\n",
            "  -1.13090652e-03  1.80879363e-03  1.13403657e-03  4.83590830e-03\n",
            "   3.43453023e-03  5.35783882e-04  2.12813728e-04  3.42552993e-03\n",
            "   3.53302294e-03 -2.69114797e-04  2.73287063e-03 -4.82482603e-04\n",
            "  -2.77284358e-04 -2.90635554e-03  8.95405479e-04  2.76047364e-03\n",
            "   1.60892727e-03 -2.59820512e-03  3.17558018e-03 -1.45302049e-03\n",
            "   1.77187985e-03  1.71471247e-03 -3.51993041e-03 -2.18460453e-03\n",
            "   1.22258934e-04  3.22229019e-03  7.52829248e-04  4.78913914e-03\n",
            "  -2.96932273e-03  9.05774883e-04  1.59951916e-03  3.65214446e-03\n",
            "  -3.46374174e-04 -2.73651385e-05  2.78819003e-04  3.54945287e-03\n",
            "  -6.99182216e-04 -7.14110560e-04  1.83213328e-03 -2.64628301e-03\n",
            "  -6.86330663e-04 -4.57446091e-03  8.45477160e-04  2.03373632e-03\n",
            "  -1.27980369e-03  1.90239097e-03 -2.91350204e-03  4.74261912e-03]\n",
            " [ 1.34093454e-03  3.09916242e-04  1.70010957e-04  3.36216064e-04\n",
            "   7.82455725e-04 -2.30337307e-03  4.64535929e-04  1.71886780e-03\n",
            "   1.62783335e-03 -1.07853208e-04  1.45197927e-03 -9.11224808e-04\n",
            "  -8.30704172e-04  1.36843894e-03  1.94856766e-05  1.82433578e-04\n",
            "  -6.91198511e-05  8.48862983e-04  6.96894713e-04 -7.70780200e-04\n",
            "   2.96637212e-04 -3.49510374e-04 -1.02561899e-07  5.46740310e-04\n",
            "  -1.64891186e-03 -7.67335412e-04  3.46849207e-04 -1.33657805e-03\n",
            "   2.10108410e-04  2.56423373e-04 -1.57088143e-04  1.61372323e-03\n",
            "   1.84784958e-03  4.75792767e-04  9.83326230e-04  7.99614209e-05\n",
            "   1.24759914e-04  4.60491428e-04 -1.57345878e-03 -7.99577800e-04\n",
            "  -4.85294993e-04  4.37100767e-04  2.89322867e-04 -1.85248180e-04\n",
            "  -9.52991948e-04 -1.94249733e-04 -3.51542956e-04 -4.49972140e-04\n",
            "   7.03609025e-04  8.75518599e-05  5.62370929e-04  8.23629671e-05\n",
            "  -1.54510397e-03  7.85348238e-04  3.81179852e-05  1.42694626e-04\n",
            "  -5.39077679e-04  3.11197073e-04 -5.08920522e-04 -5.22654271e-04\n",
            "   1.11338042e-03  1.51480723e-04 -1.60959677e-03 -7.98925525e-04\n",
            "  -2.52792059e-04  1.58576015e-03 -3.80475802e-04  1.51723420e-04\n",
            "   2.04320741e-03 -3.49472219e-04 -1.74161891e-04 -6.28369977e-04\n",
            "  -5.40585839e-04 -1.08689256e-03  2.01847777e-03  6.47881185e-04\n",
            "   9.02880565e-04  2.70751945e-04 -4.96596505e-04  1.26124860e-03\n",
            "   1.24316561e-04  1.67301623e-04 -3.81989579e-04 -8.69487238e-04\n",
            "  -1.88466685e-03 -5.53315913e-05  1.08466530e-03 -8.97105609e-04\n",
            "   2.01646518e-03 -2.41046282e-03 -1.80646346e-03 -1.76924677e-03\n",
            "  -1.88007267e-04 -8.44913360e-04  4.57686780e-04 -5.75975399e-04\n",
            "  -1.15407177e-03 -9.10902570e-04  6.01940264e-05  1.07547932e-03]]\n",
            "Score (Opposite of the value of X on the K-means objective which is Sum of distances of samples to their closest cluster center):\n",
            "-0.009771355\n",
            "Silhouette_score: \n",
            "0.023230428\n"
          ],
          "name": "stdout"
        }
      ]
    },
    {
      "cell_type": "code",
      "metadata": {
        "id": "HVBLG0MX_OEO"
      },
      "source": [
        ""
      ],
      "execution_count": null,
      "outputs": []
    },
    {
      "cell_type": "markdown",
      "metadata": {
        "id": "jePutITgDD-Y"
      },
      "source": [
        "# Testing from here: \n",
        "https://stats.stackexchange.com/questions/123060/clustering-a-long-list-of-strings-words-into-similarity-groups"
      ]
    },
    {
      "cell_type": "code",
      "metadata": {
        "colab": {
          "base_uri": "https://localhost:8080/"
        },
        "id": "VUfy37VbDDpp",
        "outputId": "8be75bdf-4319-43ed-f21b-0f9db9d038f7"
      },
      "source": [
        "import numpy as np\n",
        "from sklearn.cluster import AffinityPropagation\n",
        "import random\n",
        "#import distance\n",
        "    \n",
        "\n",
        "words = \"red blue yellow green purple orange large small little big thick thin wide small tshirt tank potato\".split(\" \") #Replace this line\n",
        "random.shuffle(words)\n",
        "words = np.asarray(words) #So that indexing with a list will work\n",
        "\n",
        "sentences = [[word] for word in words]\n",
        "model = Word2Vec(sentences, min_count=1)\n",
        "lev_similarity = -1*np.array([[model.wv.similarity(w1,w2) for w1 in words] for w2 in words])\n",
        "\n",
        "affprop = AffinityPropagation(affinity=\"precomputed\", damping=0.9)\n",
        "affprop.fit(lev_similarity)\n",
        "for cluster_id in np.unique(affprop.labels_):\n",
        "    exemplar = words[affprop.cluster_centers_indices_[cluster_id]]\n",
        "    cluster = np.unique(words[np.nonzero(affprop.labels_==cluster_id)])\n",
        "    cluster_str = \", \".join(cluster)\n",
        "    print(\" - *%s:* %s\" % (exemplar, cluster_str))"
      ],
      "execution_count": null,
      "outputs": [
        {
          "output_type": "stream",
          "text": [
            " - *tshirt:* orange, potato, small, tshirt\n",
            " - *thin:* thin, wide, yellow\n",
            " - *blue:* big, blue, green, purple, red\n",
            " - *thick:* large, little, tank, thick\n"
          ],
          "name": "stdout"
        }
      ]
    },
    {
      "cell_type": "code",
      "metadata": {
        "id": "6Q1__ToUDDKj"
      },
      "source": [
        ""
      ],
      "execution_count": null,
      "outputs": []
    },
    {
      "cell_type": "code",
      "metadata": {
        "id": "b-W9hW9tDDIS"
      },
      "source": [
        ""
      ],
      "execution_count": null,
      "outputs": []
    },
    {
      "cell_type": "code",
      "metadata": {
        "id": "OwOhIm40DC7x"
      },
      "source": [
        "import numpy as np\n",
        "from scipy import spatial\n",
        "import matplotlib.pyplot as plt\n",
        "from sklearn.manifold import TSNE"
      ],
      "execution_count": null,
      "outputs": []
    },
    {
      "cell_type": "code",
      "metadata": {
        "id": "9Xumj2LUIor7"
      },
      "source": [
        "embeddings_dict = {}"
      ],
      "execution_count": null,
      "outputs": []
    },
    {
      "cell_type": "code",
      "metadata": {
        "id": "LWXDDDVwIwZv"
      },
      "source": [
        "with open(\"glove.6B.50d.txt\", 'r', encoding=\"utf-8\") as f:\n",
        "  for line in f:\n",
        "    values = line.split()\n",
        "    word = values[0]\n",
        "    vector = np.asarray(values[1:], \"float32\")\n",
        "    embeddings_dict[word] = vector\n",
        "\n"
      ],
      "execution_count": null,
      "outputs": []
    },
    {
      "cell_type": "code",
      "metadata": {
        "id": "9SdPGwLcI68d"
      },
      "source": [
        "def find_closest_embeddings(embedding):\n",
        "  return sorted(embeddings_dict.keys(), key=lambda word: spatial.distance.euclidean(embeddings_dict[word], embedding))\n"
      ],
      "execution_count": null,
      "outputs": []
    },
    {
      "cell_type": "code",
      "metadata": {
        "id": "SN2YMlogfTt8"
      },
      "source": [
        "tsne = TSNE(n_components=2, random_state=0)"
      ],
      "execution_count": null,
      "outputs": []
    },
    {
      "cell_type": "code",
      "metadata": {
        "id": "uF0ezoI9f-nW"
      },
      "source": [
        "words =  \"red blue thick thin pointy round smile frown\"# ['red', 'orange', 'yellow', 'large', 'small', 'tiny'] #list(embeddings_dict.keys())\n",
        "words = words.split(\" \")\n",
        "vectors = [embeddings_dict[word] for word in words]"
      ],
      "execution_count": null,
      "outputs": []
    },
    {
      "cell_type": "code",
      "metadata": {
        "colab": {
          "base_uri": "https://localhost:8080/"
        },
        "id": "wFugHt8pn7UC",
        "outputId": "ecb7af91-144f-4fd2-aace-2bb392409d95"
      },
      "source": [
        "words =  \"red blue thick thin pointy round smile frown\"# ['red', 'orange', 'yellow', 'large', 'small', 'tiny'] #list(embeddings_dict.keys())\n",
        "words = words.split(\" \")\n",
        "vectors = [embeddings_dict[word] for word in words]\n",
        "\n",
        "X = vectors\n",
        "\n",
        "kclusterer = KMeansClusterer(4, distance=spatial.distance.cosine, repeats=25, avoid_empty_clusters=True)\n",
        "kmeans = kclusterer.cluster(X, assign_clusters=True)\n",
        "\n",
        "sorted_words = {}\n",
        "#words = list(model.wv.vocab)\n",
        "for i, word in enumerate(words):\n",
        "  c = kmeans[i]  \n",
        "  if c not in sorted_words:\n",
        "    sorted_words[c] = []\n",
        "  sorted_words[c].append(word)\n",
        "  #print (word + \":\" + str(kmeans[i]))\n",
        "sorted_words"
      ],
      "execution_count": null,
      "outputs": [
        {
          "output_type": "execute_result",
          "data": {
            "text/plain": [
              "{0: ['pointy', 'frown'],\n",
              " 1: ['blue', 'thin'],\n",
              " 2: ['red', 'thick', 'round'],\n",
              " 3: ['smile']}"
            ]
          },
          "metadata": {
            "tags": []
          },
          "execution_count": 128
        }
      ]
    },
    {
      "cell_type": "code",
      "metadata": {
        "colab": {
          "base_uri": "https://localhost:8080/"
        },
        "id": "8t7glhvQnCWM",
        "outputId": "2ba0abd2-b726-4c1a-d13c-dd8702b4bd95"
      },
      "source": [
        "\n",
        "def clusterWords(model, num, tp='sklearn'):\n",
        "  X = model.wv[model.wv.vocab]\n",
        "\n",
        "  if tp == 'nltk':\n",
        "    kclusterer = KMeansClusterer(num, distance=spatial.distance.cosine, repeats=50)\n",
        "    kmeans = kclusterer.cluster(X, assign_clusters=True)\n",
        "  elif tp == 'sklearn':\n",
        "    kmeans = cluster.KMeans(n_clusters=num)\n",
        "    kmeans.fit(X)\n",
        "\n",
        "  return kmeans, X\n",
        "\n",
        "len(X)\n",
        " "
      ],
      "execution_count": null,
      "outputs": [
        {
          "output_type": "execute_result",
          "data": {
            "text/plain": [
              "7"
            ]
          },
          "metadata": {
            "tags": []
          },
          "execution_count": 106
        }
      ]
    },
    {
      "cell_type": "code",
      "metadata": {
        "colab": {
          "base_uri": "https://localhost:8080/"
        },
        "id": "iNTi0MmXlCaf",
        "outputId": "f3ce1199-ef63-4bfe-ab83-24df84ba1812"
      },
      "source": [
        "differences = {}\n",
        "for i in range(len(words)):\n",
        "  for j in range(i+1, len(words)):\n",
        "    w1 = words[i]\n",
        "    v1 = vectors[i]\n",
        "\n",
        "    w2 = words[j]\n",
        "    v2 = vectors[j]\n",
        "\n",
        "    result = spatial.distance.cosine(v1, v2)\n",
        "    print(w1, w2, result)\n",
        "    differences[(w1,w2)] = spatial.distance.cosine(v1, v2)"
      ],
      "execution_count": null,
      "outputs": [
        {
          "output_type": "stream",
          "text": [
            "red red 0.0\n",
            "red red 0.0\n",
            "red red 0.0\n",
            "red red 0.0\n",
            "red red 0.0\n",
            "red government 0.6405347585678101\n",
            "red red 0.0\n",
            "red red 0.0\n",
            "red red 0.0\n",
            "red red 0.0\n",
            "red government 0.6405347585678101\n",
            "red red 0.0\n",
            "red red 0.0\n",
            "red red 0.0\n",
            "red government 0.6405347585678101\n",
            "red red 0.0\n",
            "red red 0.0\n",
            "red government 0.6405347585678101\n",
            "red red 0.0\n",
            "red government 0.6405347585678101\n",
            "red government 0.6405347585678101\n"
          ],
          "name": "stdout"
        }
      ]
    },
    {
      "cell_type": "code",
      "metadata": {
        "colab": {
          "base_uri": "https://localhost:8080/"
        },
        "id": "KGe5pQrNmA_5",
        "outputId": "8a6ab388-e9c9-4148-a240-a5c29d32abc8"
      },
      "source": [
        "sorted(differences.items(), key=lambda item:item[1])    "
      ],
      "execution_count": null,
      "outputs": [
        {
          "output_type": "execute_result",
          "data": {
            "text/plain": [
              "[(('red', 'red'), 0.0), (('red', 'government'), 0.6405347585678101)]"
            ]
          },
          "metadata": {
            "tags": []
          },
          "execution_count": 96
        }
      ]
    },
    {
      "cell_type": "code",
      "metadata": {
        "id": "OhONyoqhoAL3"
      },
      "source": [
        ""
      ],
      "execution_count": null,
      "outputs": []
    },
    {
      "cell_type": "code",
      "metadata": {
        "id": "gq0-nFGcnttq"
      },
      "source": [
        ""
      ],
      "execution_count": null,
      "outputs": []
    },
    {
      "cell_type": "code",
      "metadata": {
        "id": "MdmgAOZ1oDLV"
      },
      "source": [
        ""
      ],
      "execution_count": null,
      "outputs": []
    },
    {
      "cell_type": "code",
      "metadata": {
        "colab": {
          "base_uri": "https://localhost:8080/",
          "height": 265
        },
        "id": "1wMHne_DgCs1",
        "outputId": "3d01684a-cd5a-4d1b-e75d-11f51799444b"
      },
      "source": [
        "Y = tsne.fit_transform(vectors[:1000])\n",
        "plt.scatter(Y[:, 0], Y[:, 1])\n",
        "for label, x, y in zip(words, Y[:, 0], Y[:, 1]):\n",
        "    plt.annotate(label, xy=(x, y), xytext=(0, 0), textcoords=\"offset points\")\n",
        "\n",
        "plt.show()"
      ],
      "execution_count": null,
      "outputs": [
        {
          "output_type": "display_data",
          "data": {
            "image/png": "[encoded data removed]",
            "text/plain": [
              "<Figure size 432x288 with 1 Axes>"
            ]
          },
          "metadata": {
            "tags": [],
            "needs_background": "light"
          }
        }
      ]
    }
  ]
}
